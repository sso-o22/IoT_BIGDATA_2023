{
 "cells": [
  {
   "attachments": {},
   "cell_type": "markdown",
   "metadata": {},
   "source": [
    "### Pandas 기초\n",
    "\n",
    "### 가상환경 설치\n",
    "\n",
    "Virtualenv 모듈 설치\n",
    "\n",
    "```\n",
    "> !pip install virtualenv\n",
    "```"
   ]
  },
  {
   "cell_type": "code",
   "execution_count": 2,
   "metadata": {},
   "outputs": [
    {
     "name": "stdout",
     "output_type": "stream",
     "text": [
      "Requirement already satisfied: virtualenv in c:\\dev\\langs\\python311\\lib\\site-packages (20.17.1)\n",
      "Requirement already satisfied: distlib<1,>=0.3.6 in c:\\dev\\langs\\python311\\lib\\site-packages (from virtualenv) (0.3.6)\n",
      "Requirement already satisfied: filelock<4,>=3.4.1 in c:\\dev\\langs\\python311\\lib\\site-packages (from virtualenv) (3.9.0)\n",
      "Requirement already satisfied: platformdirs<3,>=2.4 in c:\\dev\\langs\\python311\\lib\\site-packages (from virtualenv) (2.6.2)\n"
     ]
    },
    {
     "name": "stderr",
     "output_type": "stream",
     "text": [
      "DEPRECATION: Loading egg at c:\\dev\\langs\\python311\\lib\\site-packages\\vboxapi-1.0-py3.11.egg is deprecated. pip 23.3 will enforce this behaviour change. A possible replacement is to use pip for package installation..\n"
     ]
    }
   ],
   "source": [
    "!pip install virtualenv"
   ]
  },
  {
   "attachments": {},
   "cell_type": "markdown",
   "metadata": {},
   "source": [
    "#### 가상환경 설정\n",
    "\n",
    "```\n",
    "> virtualenv da_env\n",
    "```\n",
    "\n",
    "주피터 노트북 커널을 변경 - da_env(Python 3.11.2) 로 변경\n",
    "\n",
    "##### 가상환경 패키지(pip) 확인"
   ]
  },
  {
   "cell_type": "code",
   "execution_count": 3,
   "metadata": {},
   "outputs": [
    {
     "name": "stdout",
     "output_type": "stream",
     "text": [
      "Package                Version\n",
      "---------------------- ------------\n",
      "asgiref                3.6.0\n",
      "asttokens              2.2.1\n",
      "backcall               0.2.0\n",
      "branca                 0.6.0\n",
      "certifi                2022.12.7\n",
      "charset-normalizer     3.1.0\n",
      "click                  8.1.3\n",
      "colorama               0.4.6\n",
      "comm                   0.1.2\n",
      "comtypes               1.1.14\n",
      "debugpy                1.6.6\n",
      "decorator              5.1.1\n",
      "distlib                0.3.6\n",
      "et-xmlfile             1.1.0\n",
      "executing              1.2.0\n",
      "filelock               3.9.0\n",
      "folium                 0.14.0\n",
      "gTTS                   2.3.1\n",
      "idna                   3.4\n",
      "ipykernel              6.21.1\n",
      "ipython                8.10.0\n",
      "jedi                   0.18.2\n",
      "Jinja2                 3.1.2\n",
      "jupyter_client         8.0.2\n",
      "jupyter_core           5.2.0\n",
      "MarkupSafe             2.1.2\n",
      "matplotlib-inline      0.1.6\n",
      "mysql-connector-python 8.0.32\n",
      "nest-asyncio           1.5.6\n",
      "numpy                  1.24.2\n",
      "openpyxl               3.1.2\n",
      "packaging              23.0\n",
      "pandas                 1.5.3\n",
      "parso                  0.8.3\n",
      "pickleshare            0.7.5\n",
      "Pillow                 9.4.0\n",
      "pip                    23.2.1\n",
      "platformdirs           2.6.2\n",
      "playsound              1.3.0\n",
      "prompt-toolkit         3.0.36\n",
      "psutil                 5.9.4\n",
      "pure-eval              0.2.2\n",
      "pygame                 2.3.0\n",
      "Pygments               2.14.0\n",
      "PyMySQL                1.0.2\n",
      "pypiwin32              223\n",
      "pypng                  0.20220715.0\n",
      "PyQt5                  5.15.9\n",
      "PyQt5-Qt5              5.15.2\n",
      "PyQt5-sip              12.11.1\n",
      "PyQt5Designer          5.14.1\n",
      "PyQtWebEngine          5.15.6\n",
      "PyQtWebEngine-Qt5      5.15.2\n",
      "pytesseract            0.3.10\n",
      "python-dateutil        2.8.2\n",
      "pythonds               1.2.1\n",
      "pyttsx3                2.90\n",
      "pytz                   2022.7.1\n",
      "pywin32                305\n",
      "pyzmq                  25.0.0\n",
      "qrcode                 7.4.2\n",
      "requests               2.28.2\n",
      "setuptools             65.5.0\n",
      "six                    1.16.0\n",
      "sqlparse               0.4.3\n",
      "stack-data             0.6.2\n",
      "tk                     0.1.0\n",
      "tornado                6.2\n",
      "traitlets              5.9.0\n",
      "typing_extensions      4.5.0\n",
      "tzdata                 2022.7\n",
      "urllib3                1.26.15\n",
      "vboxapi                1.0\n",
      "vboxapi                1.0\n",
      "vboxapi                1.0\n",
      "virtualenv             20.17.1\n",
      "wcwidth                0.2.6\n"
     ]
    },
    {
     "name": "stderr",
     "output_type": "stream",
     "text": [
      "DEPRECATION: Loading egg at c:\\dev\\langs\\python311\\lib\\site-packages\\vboxapi-1.0-py3.11.egg is deprecated. pip 23.3 will enforce this behaviour change. A possible replacement is to use pip for package installation..\n"
     ]
    }
   ],
   "source": [
    "!pip list"
   ]
  },
  {
   "attachments": {},
   "cell_type": "markdown",
   "metadata": {},
   "source": [
    "##### 판다스 설치\n",
    "```\n",
    "> !pip install pandas\n",
    "```\n",
    "\n",
    "- Pandas : 2.0.3\n",
    "- Numpy : 1.25.2"
   ]
  },
  {
   "cell_type": "code",
   "execution_count": 4,
   "metadata": {},
   "outputs": [
    {
     "name": "stdout",
     "output_type": "stream",
     "text": [
      "Requirement already satisfied: pandas in c:\\dev\\langs\\python311\\lib\\site-packages (1.5.3)\n",
      "Requirement already satisfied: python-dateutil>=2.8.1 in c:\\users\\user\\appdata\\roaming\\python\\python311\\site-packages (from pandas) (2.8.2)\n",
      "Requirement already satisfied: pytz>=2020.1 in c:\\dev\\langs\\python311\\lib\\site-packages (from pandas) (2022.7.1)\n",
      "Requirement already satisfied: numpy>=1.21.0 in c:\\dev\\langs\\python311\\lib\\site-packages (from pandas) (1.24.2)\n",
      "Requirement already satisfied: six>=1.5 in c:\\users\\user\\appdata\\roaming\\python\\python311\\site-packages (from python-dateutil>=2.8.1->pandas) (1.16.0)\n"
     ]
    },
    {
     "name": "stderr",
     "output_type": "stream",
     "text": [
      "DEPRECATION: Loading egg at c:\\dev\\langs\\python311\\lib\\site-packages\\vboxapi-1.0-py3.11.egg is deprecated. pip 23.3 will enforce this behaviour change. A possible replacement is to use pip for package installation..\n"
     ]
    }
   ],
   "source": [
    "!pip install pandas"
   ]
  },
  {
   "cell_type": "code",
   "execution_count": 5,
   "metadata": {},
   "outputs": [
    {
     "name": "stdout",
     "output_type": "stream",
     "text": [
      "Name: pandas\n",
      "Version: 1.5.3\n",
      "Summary: Powerful data structures for data analysis, time series, and statistics\n",
      "Home-page: https://pandas.pydata.org\n",
      "Author: The Pandas Development Team\n",
      "Author-email: pandas-dev@python.org\n",
      "License: BSD-3-Clause\n",
      "Location: C:\\DEV\\Langs\\Python311\\Lib\\site-packages\n",
      "Requires: numpy, numpy, python-dateutil, pytz\n",
      "Required-by: \n"
     ]
    },
    {
     "name": "stderr",
     "output_type": "stream",
     "text": [
      "DEPRECATION: Loading egg at c:\\dev\\langs\\python311\\lib\\site-packages\\vboxapi-1.0-py3.11.egg is deprecated. pip 23.3 will enforce this behaviour change. A possible replacement is to use pip for package installation..\n"
     ]
    }
   ],
   "source": [
    "!pip show pandas"
   ]
  },
  {
   "cell_type": "code",
   "execution_count": 6,
   "metadata": {},
   "outputs": [
    {
     "name": "stdout",
     "output_type": "stream",
     "text": [
      "Name: numpy\n",
      "Version: 1.24.2\n",
      "Summary: Fundamental package for array computing in Python\n",
      "Home-page: https://www.numpy.org\n",
      "Author: Travis E. Oliphant et al.\n",
      "Author-email: \n",
      "License: BSD-3-Clause\n",
      "Location: C:\\DEV\\Langs\\Python311\\Lib\\site-packages\n",
      "Requires: \n",
      "Required-by: folium, pandas\n"
     ]
    },
    {
     "name": "stderr",
     "output_type": "stream",
     "text": [
      "DEPRECATION: Loading egg at c:\\dev\\langs\\python311\\lib\\site-packages\\vboxapi-1.0-py3.11.egg is deprecated. pip 23.3 will enforce this behaviour change. A possible replacement is to use pip for package installation..\n"
     ]
    }
   ],
   "source": [
    "!pip show numpy"
   ]
  },
  {
   "attachments": {},
   "cell_type": "markdown",
   "metadata": {},
   "source": [
    "#### 판다스 기초\n",
    "\n",
    "##### 개요\n",
    "\n",
    "엑셀과 거의 동일한 테이블형태로 데이터를 핸들링할 수 있는 파이썬 모듈\n",
    "\n",
    "데이터 분석을 위한 추상 자료구조(DataFrame!!)를 제공하는 데이터 분석도구임\n",
    "\n",
    "###### 기본 기능\n",
    "- 엑셀/CSV/Json 등 데이터파일에서 데이터 읽어오기 -> 파이썬 메모리상에 로드\n",
    "- 데이터 처리\n",
    "- 엑셀/CSV/Json 등 데이터파일에 저장\n",
    "\n",
    "###### Pandas 용어\n",
    "- Series, DataFrame\n",
    "- Index, Columns, Values, etc"
   ]
  },
  {
   "attachments": {},
   "cell_type": "markdown",
   "metadata": {},
   "source": [
    "#### 판다스 학습 시작!\n",
    "\n",
    "##### 시리즈\n",
    "\n",
    "판다스에서 1차원 배열과 똑같은 자료형(데이터 타입)\n",
    "\n",
    "<img src=\"https://velog.velcdn.com/images%2Fgjtjsdn1%2Fpost%2F41aab35d-d5bc-4a3f-b0fa-1c8770bf2eb9%2Fimage.png\" width=500>\n",
    "\n",
    "##### 판다스 모듈 import\n",
    "```python\n",
    "import pandas as pd\n",
    "```"
   ]
  },
  {
   "cell_type": "code",
   "execution_count": 7,
   "metadata": {},
   "outputs": [],
   "source": [
    "import pandas as pd"
   ]
  },
  {
   "attachments": {},
   "cell_type": "markdown",
   "metadata": {},
   "source": [
    "##### 시리즈 생성"
   ]
  },
  {
   "cell_type": "code",
   "execution_count": 8,
   "metadata": {},
   "outputs": [
    {
     "name": "stderr",
     "output_type": "stream",
     "text": [
      "C:\\Users\\user\\AppData\\Local\\Temp\\ipykernel_16340\\3103092338.py:1: FutureWarning: The default dtype for empty Series will be 'object' instead of 'float64' in a future version. Specify a dtype explicitly to silence this warning.\n",
      "  grade = pd.Series()\n"
     ]
    },
    {
     "data": {
      "text/plain": [
       "Series([], dtype: float64)"
      ]
     },
     "execution_count": 8,
     "metadata": {},
     "output_type": "execute_result"
    }
   ],
   "source": [
    "grade = pd.Series()\n",
    "grade"
   ]
  },
  {
   "cell_type": "code",
   "execution_count": 11,
   "metadata": {},
   "outputs": [
    {
     "data": {
      "text/plain": [
       "이름    홍길동\n",
       "국어     90\n",
       "영어     50\n",
       "수학     75\n",
       "미술    100\n",
       "Name: 기말고사점수, dtype: object"
      ]
     },
     "execution_count": 11,
     "metadata": {},
     "output_type": "execute_result"
    }
   ],
   "source": [
    "grade = pd.Series(data=['홍길동', 90, 50, 75, 100], index=['이름', '국어','영어', '수학', '미술'], name='기말고사점수')\n",
    "grade"
   ]
  },
  {
   "attachments": {},
   "cell_type": "markdown",
   "metadata": {},
   "source": [
    "##### 시리즈 생성\n",
    "\n",
    "<img src=\"https://img1.daumcdn.net/thumb/R1280x0/?scode=mtistory2&fname=https%3A%2F%2Ft1.daumcdn.net%2Fcfile%2Ftistory%2F995809335BFBCC922B\" width=500>"
   ]
  },
  {
   "cell_type": "code",
   "execution_count": 12,
   "metadata": {},
   "outputs": [
    {
     "data": {
      "text/plain": [
       "array(['홍길동', 90, 50, 75, 100], dtype=object)"
      ]
     },
     "execution_count": 12,
     "metadata": {},
     "output_type": "execute_result"
    }
   ],
   "source": [
    "grade.values"
   ]
  },
  {
   "cell_type": "code",
   "execution_count": 13,
   "metadata": {},
   "outputs": [
    {
     "data": {
      "text/plain": [
       "Index(['이름', '국어', '영어', '수학', '미술'], dtype='object')"
      ]
     },
     "execution_count": 13,
     "metadata": {},
     "output_type": "execute_result"
    }
   ],
   "source": [
    "grade.index"
   ]
  },
  {
   "cell_type": "code",
   "execution_count": 14,
   "metadata": {},
   "outputs": [
    {
     "data": {
      "text/plain": [
       "'기말고사점수'"
      ]
     },
     "execution_count": 14,
     "metadata": {},
     "output_type": "execute_result"
    }
   ],
   "source": [
    "grade.name"
   ]
  },
  {
   "attachments": {},
   "cell_type": "markdown",
   "metadata": {},
   "source": [
    "##### 판다스 시리즈 타입으로 전환\n",
    "\n",
    "- 리스트 -> pd.Series(data=[])\n",
    "- 딕셔너리 { 'key' : 'value' } -> pd.Series(data={})"
   ]
  },
  {
   "cell_type": "code",
   "execution_count": 15,
   "metadata": {},
   "outputs": [
    {
     "data": {
      "text/plain": [
       "dict"
      ]
     },
     "execution_count": 15,
     "metadata": {},
     "output_type": "execute_result"
    }
   ],
   "source": [
    "gilsun_data = { '이름' : '홍길순', '국어' : 100, '영어' : 100, '수학' : 100, '미술' : 40 }\n",
    "type(gilsun_data)"
   ]
  },
  {
   "cell_type": "code",
   "execution_count": 16,
   "metadata": {},
   "outputs": [
    {
     "data": {
      "text/plain": [
       "이름    홍길순\n",
       "국어    100\n",
       "영어    100\n",
       "수학    100\n",
       "미술     40\n",
       "dtype: object"
      ]
     },
     "execution_count": 16,
     "metadata": {},
     "output_type": "execute_result"
    }
   ],
   "source": [
    "# 리스트보다 딕셔너리로 데이터를 사용하는 것이 판다스 시리즈 생성할 때 편리\n",
    "grade2 = pd.Series(data=gilsun_data)\n",
    "grade2"
   ]
  },
  {
   "cell_type": "code",
   "execution_count": 18,
   "metadata": {},
   "outputs": [
    {
     "data": {
      "text/plain": [
       "pandas.core.series.Series"
      ]
     },
     "execution_count": 18,
     "metadata": {},
     "output_type": "execute_result"
    }
   ],
   "source": [
    "type(grade2)"
   ]
  },
  {
   "attachments": {},
   "cell_type": "markdown",
   "metadata": {},
   "source": [
    "# 중요!\n",
    "\n",
    "None(== Null), NaN -> 결측치라 부르고 결측치가 있으면 데이터 분석이 부정확"
   ]
  },
  {
   "cell_type": "code",
   "execution_count": 21,
   "metadata": {},
   "outputs": [
    {
     "data": {
      "text/plain": [
       "이름      유고\n",
       "국어    None\n",
       "영어      10\n",
       "수학       0\n",
       "      None\n",
       "dtype: object"
      ]
     },
     "execution_count": 21,
     "metadata": {},
     "output_type": "execute_result"
    }
   ],
   "source": [
    "# (빅)데이터 분석에서 가장 조심해야할 것, None(결측치)\n",
    "grade3 = pd.Series(data=['유고', None, 10, 0, None], index=['이름', '국어', '영어', '수학', ''])\n",
    "grade3"
   ]
  },
  {
   "attachments": {},
   "cell_type": "markdown",
   "metadata": {},
   "source": [
    "##### 재색인\n",
    "\n",
    "결측치가 있거나 인덱스가 잘못되었을 때 다시 정립하는 작업"
   ]
  },
  {
   "cell_type": "code",
   "execution_count": 24,
   "metadata": {},
   "outputs": [
    {
     "data": {
      "text/plain": [
       "이름      유고\n",
       "국어    None\n",
       "영어      10\n",
       "수학       0\n",
       "dtype: object"
      ]
     },
     "execution_count": 24,
     "metadata": {},
     "output_type": "execute_result"
    }
   ],
   "source": [
    "grade4 = grade3.reindex(index=['이름', '국어', '영어', '수학'])\n",
    "grade4"
   ]
  },
  {
   "cell_type": "code",
   "execution_count": 30,
   "metadata": {},
   "outputs": [
    {
     "data": {
      "text/plain": [
       "이름      유고\n",
       "국어    None\n",
       "영어      10\n",
       "수학       0\n",
       "미술       0\n",
       "dtype: object"
      ]
     },
     "execution_count": 30,
     "metadata": {},
     "output_type": "execute_result"
    }
   ],
   "source": [
    "# 결측치 없애기\n",
    "grade5 = grade3.reindex(index=['이름', '국어', '영어', '수학', '미술'], fill_value=0)\n",
    "grade5"
   ]
  },
  {
   "cell_type": "code",
   "execution_count": 31,
   "metadata": {},
   "outputs": [],
   "source": [
    "grade5.fillna(0, inplace=True)"
   ]
  },
  {
   "cell_type": "code",
   "execution_count": 32,
   "metadata": {},
   "outputs": [
    {
     "data": {
      "text/plain": [
       "이름    유고\n",
       "국어     0\n",
       "영어    10\n",
       "수학     0\n",
       "미술     0\n",
       "dtype: object"
      ]
     },
     "execution_count": 32,
     "metadata": {},
     "output_type": "execute_result"
    }
   ],
   "source": [
    "grade5"
   ]
  },
  {
   "attachments": {},
   "cell_type": "markdown",
   "metadata": {},
   "source": [
    "#### 이름변경\n",
    "\n",
    "##### 인덱스의 이름을 변경해주는 기능"
   ]
  },
  {
   "cell_type": "code",
   "execution_count": 33,
   "metadata": {},
   "outputs": [
    {
     "data": {
      "text/plain": [
       "Name         유고\n",
       "Korean     None\n",
       "English      10\n",
       "Math          0\n",
       "Art        None\n",
       "dtype: object"
      ]
     },
     "execution_count": 33,
     "metadata": {},
     "output_type": "execute_result"
    }
   ],
   "source": [
    "grade3.rename({'이름':'Name', '국어':'Korean', '영어':'English', '수학':'Math', '':'Art'}, inplace=True)\n",
    "grade3"
   ]
  },
  {
   "attachments": {},
   "cell_type": "markdown",
   "metadata": {},
   "source": [
    "##### 판다스 시리즈 요소 제어\n",
    "\n",
    "파이썬 리스트(배열) 요소 접근방법과 유사"
   ]
  },
  {
   "cell_type": "code",
   "execution_count": 34,
   "metadata": {},
   "outputs": [
    {
     "data": {
      "text/plain": [
       "'홍길동'"
      ]
     },
     "execution_count": 34,
     "metadata": {},
     "output_type": "execute_result"
    }
   ],
   "source": [
    "grade[0]"
   ]
  },
  {
   "cell_type": "code",
   "execution_count": 35,
   "metadata": {},
   "outputs": [
    {
     "data": {
      "text/plain": [
       "'홍길동'"
      ]
     },
     "execution_count": 35,
     "metadata": {},
     "output_type": "execute_result"
    }
   ],
   "source": [
    "grade['이름']"
   ]
  },
  {
   "cell_type": "code",
   "execution_count": 36,
   "metadata": {},
   "outputs": [
    {
     "name": "stdout",
     "output_type": "stream",
     "text": [
      "50\n",
      "50\n"
     ]
    }
   ],
   "source": [
    "print(grade[2])\n",
    "print(grade['영어'])"
   ]
  },
  {
   "cell_type": "code",
   "execution_count": 40,
   "metadata": {},
   "outputs": [
    {
     "data": {
      "text/plain": [
       "50"
      ]
     },
     "execution_count": 40,
     "metadata": {},
     "output_type": "execute_result"
    }
   ],
   "source": [
    "# 로케이션 속성, 현재 지정된 인덱스 명으로 찾음. 숫자는 안됨\n",
    "grade.loc['영어']"
   ]
  },
  {
   "attachments": {},
   "cell_type": "markdown",
   "metadata": {},
   "source": [
    "##### 시리즈에서 인덱스 변경\n",
    "\n",
    "변경된 데이터만 임시 출력"
   ]
  },
  {
   "cell_type": "code",
   "execution_count": 42,
   "metadata": {},
   "outputs": [
    {
     "data": {
      "text/plain": [
       "이름    홍길동\n",
       "미술    100\n",
       "Name: 기말고사점수, dtype: object"
      ]
     },
     "execution_count": 42,
     "metadata": {},
     "output_type": "execute_result"
    }
   ],
   "source": [
    "grade[['이름', '미술']]"
   ]
  },
  {
   "cell_type": "code",
   "execution_count": 43,
   "metadata": {},
   "outputs": [
    {
     "data": {
      "text/plain": [
       "이름    홍길동\n",
       "미술    100\n",
       "Name: 기말고사점수, dtype: object"
      ]
     },
     "execution_count": 43,
     "metadata": {},
     "output_type": "execute_result"
    }
   ],
   "source": [
    "grade.reindex(index=['이름', '미술'])"
   ]
  },
  {
   "cell_type": "code",
   "execution_count": 44,
   "metadata": {},
   "outputs": [
    {
     "data": {
      "text/plain": [
       "이름    홍길동\n",
       "국어     90\n",
       "영어     50\n",
       "수학     75\n",
       "미술    100\n",
       "Name: 기말고사점수, dtype: object"
      ]
     },
     "execution_count": 44,
     "metadata": {},
     "output_type": "execute_result"
    }
   ],
   "source": [
    "grade"
   ]
  },
  {
   "cell_type": "code",
   "execution_count": 45,
   "metadata": {},
   "outputs": [
    {
     "data": {
      "text/plain": [
       "이름    False\n",
       "국어    False\n",
       "영어    False\n",
       "수학    False\n",
       "미술    False\n",
       "Name: 기말고사점수, dtype: bool"
      ]
     },
     "execution_count": 45,
     "metadata": {},
     "output_type": "execute_result"
    }
   ],
   "source": [
    "grade.isnull()"
   ]
  },
  {
   "cell_type": "code",
   "execution_count": 49,
   "metadata": {},
   "outputs": [
    {
     "data": {
      "text/plain": [
       "Name       False\n",
       "Korean      True\n",
       "English    False\n",
       "Math       False\n",
       "Art         True\n",
       "dtype: bool"
      ]
     },
     "execution_count": 49,
     "metadata": {},
     "output_type": "execute_result"
    }
   ],
   "source": [
    "grade3.isnull()"
   ]
  },
  {
   "cell_type": "code",
   "execution_count": 50,
   "metadata": {},
   "outputs": [
    {
     "data": {
      "text/plain": [
       "Name        True\n",
       "Korean     False\n",
       "English     True\n",
       "Math        True\n",
       "Art        False\n",
       "dtype: bool"
      ]
     },
     "execution_count": 50,
     "metadata": {},
     "output_type": "execute_result"
    }
   ],
   "source": [
    "grade3.notnull()"
   ]
  },
  {
   "cell_type": "code",
   "execution_count": 51,
   "metadata": {},
   "outputs": [
    {
     "data": {
      "text/plain": [
       "Name         유고\n",
       "Korean       40\n",
       "English      10\n",
       "Math          0\n",
       "Art        None\n",
       "dtype: object"
      ]
     },
     "execution_count": 51,
     "metadata": {},
     "output_type": "execute_result"
    }
   ],
   "source": [
    "grade3['Korean'] = 40\n",
    "grade3"
   ]
  },
  {
   "cell_type": "code",
   "execution_count": 52,
   "metadata": {},
   "outputs": [],
   "source": [
    "import numpy as np\n",
    "\n",
    "grade3['Art'] = np.NaN"
   ]
  },
  {
   "cell_type": "code",
   "execution_count": 56,
   "metadata": {},
   "outputs": [
    {
     "data": {
      "text/plain": [
       "Name        유고\n",
       "Korean      40\n",
       "English     10\n",
       "Math         0\n",
       "Art        NaN\n",
       "dtype: object"
      ]
     },
     "execution_count": 56,
     "metadata": {},
     "output_type": "execute_result"
    }
   ],
   "source": [
    "grade3"
   ]
  },
  {
   "cell_type": "code",
   "execution_count": 59,
   "metadata": {},
   "outputs": [],
   "source": [
    "# 필요한 인덱스의 값만 변경가능\n",
    "grade3[['Korean', 'Art']] = (30, 90)"
   ]
  },
  {
   "cell_type": "code",
   "execution_count": 58,
   "metadata": {},
   "outputs": [
    {
     "data": {
      "text/plain": [
       "Name       유고\n",
       "Korean     30\n",
       "English    10\n",
       "Math        0\n",
       "Art        90\n",
       "dtype: object"
      ]
     },
     "execution_count": 58,
     "metadata": {},
     "output_type": "execute_result"
    }
   ],
   "source": [
    "grade3"
   ]
  },
  {
   "attachments": {},
   "cell_type": "markdown",
   "metadata": {},
   "source": [
    "#### 시리즈 삭제"
   ]
  },
  {
   "cell_type": "code",
   "execution_count": 60,
   "metadata": {},
   "outputs": [],
   "source": [
    "grade7 = grade3"
   ]
  },
  {
   "cell_type": "code",
   "execution_count": 62,
   "metadata": {},
   "outputs": [],
   "source": [
    "del grade7['Math']"
   ]
  },
  {
   "cell_type": "code",
   "execution_count": 63,
   "metadata": {},
   "outputs": [
    {
     "data": {
      "text/plain": [
       "Name       유고\n",
       "Korean     30\n",
       "English    10\n",
       "Art        90\n",
       "dtype: object"
      ]
     },
     "execution_count": 63,
     "metadata": {},
     "output_type": "execute_result"
    }
   ],
   "source": [
    "grade7"
   ]
  },
  {
   "cell_type": "code",
   "execution_count": 66,
   "metadata": {},
   "outputs": [],
   "source": [
    "# inplace True로 하면 완전히 대체되서 지워짐\n",
    "grade7.drop('English', inplace=True)"
   ]
  },
  {
   "cell_type": "code",
   "execution_count": 67,
   "metadata": {},
   "outputs": [
    {
     "data": {
      "text/plain": [
       "Name      유고\n",
       "Korean    30\n",
       "Art       90\n",
       "dtype: object"
      ]
     },
     "execution_count": 67,
     "metadata": {},
     "output_type": "execute_result"
    }
   ],
   "source": [
    "grade7"
   ]
  },
  {
   "cell_type": "code",
   "execution_count": 68,
   "metadata": {},
   "outputs": [],
   "source": [
    "del grade7"
   ]
  },
  {
   "cell_type": "code",
   "execution_count": 69,
   "metadata": {},
   "outputs": [
    {
     "ename": "NameError",
     "evalue": "name 'grade7' is not defined",
     "output_type": "error",
     "traceback": [
      "\u001b[1;31m---------------------------------------------------------------------------\u001b[0m",
      "\u001b[1;31mNameError\u001b[0m                                 Traceback (most recent call last)",
      "Cell \u001b[1;32mIn[69], line 1\u001b[0m\n\u001b[1;32m----> 1\u001b[0m grade7\n",
      "\u001b[1;31mNameError\u001b[0m: name 'grade7' is not defined"
     ]
    }
   ],
   "source": [
    "grade7"
   ]
  }
 ],
 "metadata": {
  "kernelspec": {
   "display_name": "Python 3",
   "language": "python",
   "name": "python3"
  },
  "language_info": {
   "codemirror_mode": {
    "name": "ipython",
    "version": 3
   },
   "file_extension": ".py",
   "mimetype": "text/x-python",
   "name": "python",
   "nbconvert_exporter": "python",
   "pygments_lexer": "ipython3",
   "version": "3.11.2"
  },
  "orig_nbformat": 4
 },
 "nbformat": 4,
 "nbformat_minor": 2
}
