{
 "cells": [
  {
   "cell_type": "markdown",
   "metadata": {},
   "source": [
    "### 판다스, 넘파이 응용\n",
    "\n",
    "판다스 기본형 DataFrame, Series의 각 데이터타입 Numpy 타입을 사용"
   ]
  },
  {
   "cell_type": "code",
   "execution_count": 1,
   "metadata": {},
   "outputs": [],
   "source": [
    "import pandas as pd\n",
    "import numpy as np"
   ]
  },
  {
   "cell_type": "code",
   "execution_count": 5,
   "metadata": {},
   "outputs": [
    {
     "data": {
      "text/plain": [
       "0    -1.216798\n",
       "1     0.911087\n",
       "2     0.433894\n",
       "3     1.035603\n",
       "4     0.141235\n",
       "        ...   \n",
       "95   -1.675667\n",
       "96    0.945987\n",
       "97   -0.017682\n",
       "98   -2.930232\n",
       "99    0.354854\n",
       "Length: 100, dtype: float64"
      ]
     },
     "execution_count": 5,
     "metadata": {},
     "output_type": "execute_result"
    }
   ],
   "source": [
    "# 시리즈 생성\n",
    "s1 = pd.Series(data=np.random.randn(100))\n",
    "s1"
   ]
  },
  {
   "cell_type": "code",
   "execution_count": 6,
   "metadata": {},
   "outputs": [
    {
     "data": {
      "text/plain": [
       "0     12.0\n",
       "1      9.0\n",
       "2      4.0\n",
       "3     10.0\n",
       "4      1.0\n",
       "      ... \n",
       "95    17.0\n",
       "96     9.0\n",
       "97     0.0\n",
       "98    29.0\n",
       "99     4.0\n",
       "Length: 100, dtype: float64"
      ]
     },
     "execution_count": 6,
     "metadata": {},
     "output_type": "execute_result"
    }
   ],
   "source": [
    "# 음수제거, 10을 곱해서 10단위 수로 만들고, 반올림해서 소수점\n",
    "s2 = s1.abs().map(lambda x: x * 10).round()\n",
    "s2"
   ]
  },
  {
   "cell_type": "code",
   "execution_count": 7,
   "metadata": {},
   "outputs": [
    {
     "data": {
      "text/plain": [
       "9.06"
      ]
     },
     "execution_count": 7,
     "metadata": {},
     "output_type": "execute_result"
    }
   ],
   "source": [
    "np.mean(s2)"
   ]
  },
  {
   "cell_type": "code",
   "execution_count": 8,
   "metadata": {},
   "outputs": [
    {
     "name": "stdout",
     "output_type": "stream",
     "text": [
      "<class 'pandas.core.series.Series'>\n",
      "RangeIndex: 100 entries, 0 to 99\n",
      "Series name: None\n",
      "Non-Null Count  Dtype  \n",
      "--------------  -----  \n",
      "100 non-null    float64\n",
      "dtypes: float64(1)\n",
      "memory usage: 932.0 bytes\n"
     ]
    }
   ],
   "source": [
    "# 시리즈, DF의 기본적인 정보\n",
    "s2.info()"
   ]
  },
  {
   "cell_type": "code",
   "execution_count": 9,
   "metadata": {},
   "outputs": [
    {
     "data": {
      "text/plain": [
       "count    100.000000\n",
       "mean       9.060000\n",
       "std        6.661847\n",
       "min        0.000000\n",
       "25%        4.000000\n",
       "50%        8.000000\n",
       "75%       12.500000\n",
       "max       29.000000\n",
       "dtype: float64"
      ]
     },
     "execution_count": 9,
     "metadata": {},
     "output_type": "execute_result"
    }
   ],
   "source": [
    "# 판다스 데이터 기본통계 함수\n",
    "s2.describe()"
   ]
  },
  {
   "cell_type": "code",
   "execution_count": 10,
   "metadata": {},
   "outputs": [
    {
     "data": {
      "text/plain": [
       "0     1.0\n",
       "1     3.0\n",
       "2     5.0\n",
       "3     NaN\n",
       "4     1.0\n",
       "5     3.0\n",
       "6     5.0\n",
       "7     NaN\n",
       "8     1.0\n",
       "9     3.0\n",
       "10    5.0\n",
       "11    NaN\n",
       "12    1.0\n",
       "13    3.0\n",
       "14    5.0\n",
       "15    NaN\n",
       "16    1.0\n",
       "17    3.0\n",
       "18    5.0\n",
       "19    NaN\n",
       "dtype: float64"
      ]
     },
     "execution_count": 10,
     "metadata": {},
     "output_type": "execute_result"
    }
   ],
   "source": [
    "s3 = pd.Series(data=[1, 3, 5, np.nan] * 5)\n",
    "s3"
   ]
  },
  {
   "cell_type": "code",
   "execution_count": 11,
   "metadata": {},
   "outputs": [
    {
     "name": "stdout",
     "output_type": "stream",
     "text": [
      "<class 'pandas.core.series.Series'>\n",
      "RangeIndex: 20 entries, 0 to 19\n",
      "Series name: None\n",
      "Non-Null Count  Dtype  \n",
      "--------------  -----  \n",
      "15 non-null     float64\n",
      "dtypes: float64(1)\n",
      "memory usage: 292.0 bytes\n"
     ]
    }
   ],
   "source": [
    "s3.info()"
   ]
  },
  {
   "cell_type": "code",
   "execution_count": 13,
   "metadata": {},
   "outputs": [
    {
     "data": {
      "text/plain": [
       "count    15.000000\n",
       "mean      3.000000\n",
       "std       1.690309\n",
       "min       1.000000\n",
       "25%       1.000000\n",
       "50%       3.000000\n",
       "75%       5.000000\n",
       "max       5.000000\n",
       "dtype: float64"
      ]
     },
     "execution_count": 13,
     "metadata": {},
     "output_type": "execute_result"
    }
   ],
   "source": [
    "# 결측치 때문에 20개 데이터에서 통계를 구할 때 15개밖에 안나옴\n",
    "s3.describe()"
   ]
  },
  {
   "cell_type": "code",
   "execution_count": 16,
   "metadata": {},
   "outputs": [
    {
     "data": {
      "text/plain": [
       "1.0    0.333333\n",
       "3.0    0.333333\n",
       "5.0    0.333333\n",
       "Name: proportion, dtype: float64"
      ]
     },
     "execution_count": 16,
     "metadata": {},
     "output_type": "execute_result"
    }
   ],
   "source": [
    "# 값별 빈도(count)수, 속성(option) dropna=False, normalize=True/False\n",
    "s3.value_counts(dropna=True, normalize=True)"
   ]
  },
  {
   "cell_type": "code",
   "execution_count": 19,
   "metadata": {},
   "outputs": [
    {
     "data": {
      "text/plain": [
       "5"
      ]
     },
     "execution_count": 19,
     "metadata": {},
     "output_type": "execute_result"
    }
   ],
   "source": [
    "# 결측치 확인함수\n",
    "s3.isnull().sum()"
   ]
  },
  {
   "cell_type": "markdown",
   "metadata": {},
   "source": [
    "### 데이터프레임과 넘파이"
   ]
  },
  {
   "cell_type": "code",
   "execution_count": 27,
   "metadata": {},
   "outputs": [
    {
     "data": {
      "text/html": [
       "<div>\n",
       "<style scoped>\n",
       "    .dataframe tbody tr th:only-of-type {\n",
       "        vertical-align: middle;\n",
       "    }\n",
       "\n",
       "    .dataframe tbody tr th {\n",
       "        vertical-align: top;\n",
       "    }\n",
       "\n",
       "    .dataframe thead th {\n",
       "        text-align: right;\n",
       "    }\n",
       "</style>\n",
       "<table border=\"1\" class=\"dataframe\">\n",
       "  <thead>\n",
       "    <tr style=\"text-align: right;\">\n",
       "      <th></th>\n",
       "      <th>class</th>\n",
       "      <th>year</th>\n",
       "      <th>month</th>\n",
       "      <th>val1</th>\n",
       "      <th>val2</th>\n",
       "      <th>val3</th>\n",
       "    </tr>\n",
       "  </thead>\n",
       "  <tbody>\n",
       "    <tr>\n",
       "      <th>0</th>\n",
       "      <td>F</td>\n",
       "      <td>2015</td>\n",
       "      <td>10</td>\n",
       "      <td>9</td>\n",
       "      <td>388</td>\n",
       "      <td>10234</td>\n",
       "    </tr>\n",
       "    <tr>\n",
       "      <th>1</th>\n",
       "      <td>B</td>\n",
       "      <td>2023</td>\n",
       "      <td>5</td>\n",
       "      <td>2</td>\n",
       "      <td>684</td>\n",
       "      <td>15913</td>\n",
       "    </tr>\n",
       "    <tr>\n",
       "      <th>2</th>\n",
       "      <td>F</td>\n",
       "      <td>2023</td>\n",
       "      <td>12</td>\n",
       "      <td>4</td>\n",
       "      <td>772</td>\n",
       "      <td>11589</td>\n",
       "    </tr>\n",
       "    <tr>\n",
       "      <th>3</th>\n",
       "      <td>D</td>\n",
       "      <td>2019</td>\n",
       "      <td>5</td>\n",
       "      <td>9</td>\n",
       "      <td>581</td>\n",
       "      <td>18254</td>\n",
       "    </tr>\n",
       "    <tr>\n",
       "      <th>4</th>\n",
       "      <td>D</td>\n",
       "      <td>2017</td>\n",
       "      <td>3</td>\n",
       "      <td>3</td>\n",
       "      <td>770</td>\n",
       "      <td>19073</td>\n",
       "    </tr>\n",
       "    <tr>\n",
       "      <th>5</th>\n",
       "      <td>C</td>\n",
       "      <td>2023</td>\n",
       "      <td>1</td>\n",
       "      <td>9</td>\n",
       "      <td>666</td>\n",
       "      <td>14480</td>\n",
       "    </tr>\n",
       "    <tr>\n",
       "      <th>6</th>\n",
       "      <td>C</td>\n",
       "      <td>2010</td>\n",
       "      <td>8</td>\n",
       "      <td>4</td>\n",
       "      <td>950</td>\n",
       "      <td>18608</td>\n",
       "    </tr>\n",
       "    <tr>\n",
       "      <th>7</th>\n",
       "      <td>D</td>\n",
       "      <td>2010</td>\n",
       "      <td>8</td>\n",
       "      <td>7</td>\n",
       "      <td>411</td>\n",
       "      <td>16192</td>\n",
       "    </tr>\n",
       "    <tr>\n",
       "      <th>8</th>\n",
       "      <td>D</td>\n",
       "      <td>2018</td>\n",
       "      <td>11</td>\n",
       "      <td>1</td>\n",
       "      <td>148</td>\n",
       "      <td>16067</td>\n",
       "    </tr>\n",
       "    <tr>\n",
       "      <th>9</th>\n",
       "      <td>D</td>\n",
       "      <td>2012</td>\n",
       "      <td>8</td>\n",
       "      <td>5</td>\n",
       "      <td>123</td>\n",
       "      <td>12222</td>\n",
       "    </tr>\n",
       "  </tbody>\n",
       "</table>\n",
       "</div>"
      ],
      "text/plain": [
       "  class  year  month  val1  val2   val3\n",
       "0     F  2015     10     9   388  10234\n",
       "1     B  2023      5     2   684  15913\n",
       "2     F  2023     12     4   772  11589\n",
       "3     D  2019      5     9   581  18254\n",
       "4     D  2017      3     3   770  19073\n",
       "5     C  2023      1     9   666  14480\n",
       "6     C  2010      8     4   950  18608\n",
       "7     D  2010      8     7   411  16192\n",
       "8     D  2018     11     1   148  16067\n",
       "9     D  2012      8     5   123  12222"
      ]
     },
     "execution_count": 27,
     "metadata": {},
     "output_type": "execute_result"
    }
   ],
   "source": [
    "# 데이터프레임 생성 -> 이렇게 만들일은 거의 없음\n",
    "# C# Bogus로 샘플데이터 생성과 동일작업\n",
    "size = 10\n",
    "df1 = pd.DataFrame(data={\n",
    "    'class': [['A', 'B', 'C', 'D', 'F'][np.random.randint(0, 5)] for _ in range(0, size)],\n",
    "    'year': [np.random.randint(2010, 2024) for _ in range(0, size)],\n",
    "    'month': [np.random.randint(1, 13) for _ in range(0, size)],\n",
    "    'val1': [np.random.randint(1, 11) for _ in range(0, size)],\n",
    "    'val2': [np.random.randint(100, 1000) for _ in range(0, size)],\n",
    "    'val3': [np.random.randint(10000, 20000) for _ in range(0, size)]\n",
    "})\n",
    "df1"
   ]
  },
  {
   "cell_type": "code",
   "execution_count": 28,
   "metadata": {},
   "outputs": [
    {
     "data": {
      "text/plain": [
       "(10, 6)"
      ]
     },
     "execution_count": 28,
     "metadata": {},
     "output_type": "execute_result"
    }
   ],
   "source": [
    "# shape 출력값 2차원배열과 1차원배열 의미가 상이\n",
    "df1.shape"
   ]
  },
  {
   "cell_type": "code",
   "execution_count": 29,
   "metadata": {},
   "outputs": [
    {
     "name": "stdout",
     "output_type": "stream",
     "text": [
      "<class 'pandas.core.frame.DataFrame'>\n",
      "RangeIndex: 10 entries, 0 to 9\n",
      "Data columns (total 6 columns):\n",
      " #   Column  Non-Null Count  Dtype \n",
      "---  ------  --------------  ----- \n",
      " 0   class   10 non-null     object\n",
      " 1   year    10 non-null     int64 \n",
      " 2   month   10 non-null     int64 \n",
      " 3   val1    10 non-null     int64 \n",
      " 4   val2    10 non-null     int64 \n",
      " 5   val3    10 non-null     int64 \n",
      "dtypes: int64(5), object(1)\n",
      "memory usage: 612.0+ bytes\n"
     ]
    }
   ],
   "source": [
    "df1.info()"
   ]
  },
  {
   "cell_type": "code",
   "execution_count": 30,
   "metadata": {},
   "outputs": [
    {
     "data": {
      "text/html": [
       "<div>\n",
       "<style scoped>\n",
       "    .dataframe tbody tr th:only-of-type {\n",
       "        vertical-align: middle;\n",
       "    }\n",
       "\n",
       "    .dataframe tbody tr th {\n",
       "        vertical-align: top;\n",
       "    }\n",
       "\n",
       "    .dataframe thead th {\n",
       "        text-align: right;\n",
       "    }\n",
       "</style>\n",
       "<table border=\"1\" class=\"dataframe\">\n",
       "  <thead>\n",
       "    <tr style=\"text-align: right;\">\n",
       "      <th></th>\n",
       "      <th>year</th>\n",
       "      <th>month</th>\n",
       "      <th>val1</th>\n",
       "      <th>val2</th>\n",
       "      <th>val3</th>\n",
       "    </tr>\n",
       "  </thead>\n",
       "  <tbody>\n",
       "    <tr>\n",
       "      <th>count</th>\n",
       "      <td>10.000000</td>\n",
       "      <td>10.000000</td>\n",
       "      <td>10.000000</td>\n",
       "      <td>10.000000</td>\n",
       "      <td>10.000000</td>\n",
       "    </tr>\n",
       "    <tr>\n",
       "      <th>mean</th>\n",
       "      <td>2017.000000</td>\n",
       "      <td>7.100000</td>\n",
       "      <td>5.300000</td>\n",
       "      <td>549.300000</td>\n",
       "      <td>15263.200000</td>\n",
       "    </tr>\n",
       "    <tr>\n",
       "      <th>std</th>\n",
       "      <td>5.163978</td>\n",
       "      <td>3.541814</td>\n",
       "      <td>3.020302</td>\n",
       "      <td>274.782763</td>\n",
       "      <td>3077.391565</td>\n",
       "    </tr>\n",
       "    <tr>\n",
       "      <th>min</th>\n",
       "      <td>2010.000000</td>\n",
       "      <td>1.000000</td>\n",
       "      <td>1.000000</td>\n",
       "      <td>123.000000</td>\n",
       "      <td>10234.000000</td>\n",
       "    </tr>\n",
       "    <tr>\n",
       "      <th>25%</th>\n",
       "      <td>2012.750000</td>\n",
       "      <td>5.000000</td>\n",
       "      <td>3.250000</td>\n",
       "      <td>393.750000</td>\n",
       "      <td>12786.500000</td>\n",
       "    </tr>\n",
       "    <tr>\n",
       "      <th>50%</th>\n",
       "      <td>2017.500000</td>\n",
       "      <td>8.000000</td>\n",
       "      <td>4.500000</td>\n",
       "      <td>623.500000</td>\n",
       "      <td>15990.000000</td>\n",
       "    </tr>\n",
       "    <tr>\n",
       "      <th>75%</th>\n",
       "      <td>2022.000000</td>\n",
       "      <td>9.500000</td>\n",
       "      <td>8.500000</td>\n",
       "      <td>748.500000</td>\n",
       "      <td>17738.500000</td>\n",
       "    </tr>\n",
       "    <tr>\n",
       "      <th>max</th>\n",
       "      <td>2023.000000</td>\n",
       "      <td>12.000000</td>\n",
       "      <td>9.000000</td>\n",
       "      <td>950.000000</td>\n",
       "      <td>19073.000000</td>\n",
       "    </tr>\n",
       "  </tbody>\n",
       "</table>\n",
       "</div>"
      ],
      "text/plain": [
       "              year      month       val1        val2          val3\n",
       "count    10.000000  10.000000  10.000000   10.000000     10.000000\n",
       "mean   2017.000000   7.100000   5.300000  549.300000  15263.200000\n",
       "std       5.163978   3.541814   3.020302  274.782763   3077.391565\n",
       "min    2010.000000   1.000000   1.000000  123.000000  10234.000000\n",
       "25%    2012.750000   5.000000   3.250000  393.750000  12786.500000\n",
       "50%    2017.500000   8.000000   4.500000  623.500000  15990.000000\n",
       "75%    2022.000000   9.500000   8.500000  748.500000  17738.500000\n",
       "max    2023.000000  12.000000   9.000000  950.000000  19073.000000"
      ]
     },
     "execution_count": 30,
     "metadata": {},
     "output_type": "execute_result"
    }
   ],
   "source": [
    "df1.describe()"
   ]
  }
 ],
 "metadata": {
  "kernelspec": {
   "display_name": "da_env",
   "language": "python",
   "name": "python3"
  },
  "language_info": {
   "codemirror_mode": {
    "name": "ipython",
    "version": 3
   },
   "file_extension": ".py",
   "mimetype": "text/x-python",
   "name": "python",
   "nbconvert_exporter": "python",
   "pygments_lexer": "ipython3",
   "version": "3.11.2"
  },
  "orig_nbformat": 4
 },
 "nbformat": 4,
 "nbformat_minor": 2
}
